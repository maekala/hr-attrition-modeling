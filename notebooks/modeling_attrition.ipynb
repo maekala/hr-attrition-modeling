{
 "cells": [
  {
   "cell_type": "code",
   "execution_count": null,
   "id": "46fd1eaa-0ffb-46cd-ac9d-5b8a7f52d184",
   "metadata": {},
   "outputs": [],
   "source": []
  }
 ],
 "metadata": {
  "kernelspec": {
   "display_name": "",
   "name": ""
  },
  "language_info": {
   "name": ""
  }
 },
 "nbformat": 4,
 "nbformat_minor": 5
}
